{
 "cells": [
  {
   "cell_type": "markdown",
   "id": "ee720378-b765-4844-af36-da6637a9bbad",
   "metadata": {},
   "source": [
    "Q1. Create a Pandas Series that contains the following data: 4, 8, 15, 16, 23, and 42. Then, print the series."
   ]
  },
  {
   "cell_type": "code",
   "execution_count": 9,
   "id": "180f2460-2b9d-444d-9a44-76e299cc7753",
   "metadata": {},
   "outputs": [],
   "source": [
    "import pandas as pd\n",
    "numbers = {4,8,15,16,23,42}\n",
    "ser = pd.Series(list(numbers))"
   ]
  },
  {
   "cell_type": "code",
   "execution_count": 10,
   "id": "654f9b0a-c153-4a3f-9565-2d54fb8ba4ad",
   "metadata": {},
   "outputs": [
    {
     "data": {
      "text/plain": [
       "0    16\n",
       "1     4\n",
       "2    23\n",
       "3     8\n",
       "4    42\n",
       "5    15\n",
       "dtype: int64"
      ]
     },
     "execution_count": 10,
     "metadata": {},
     "output_type": "execute_result"
    }
   ],
   "source": [
    "ser"
   ]
  },
  {
   "cell_type": "markdown",
   "id": "1366ca28-2354-4da6-8203-e5898eba784d",
   "metadata": {},
   "source": [
    "Q2. Create a variable of list type containing 10 elements in it, and apply pandas.Series function on the \n",
    "variable print it."
   ]
  },
  {
   "cell_type": "code",
   "execution_count": 11,
   "id": "c4ef4296-c699-4bf4-b331-d65e8f81eaba",
   "metadata": {},
   "outputs": [],
   "source": [
    "A=[1,2,3,4,5,6,7,8,9,0]\n",
    "ser=pd.Series(A)"
   ]
  },
  {
   "cell_type": "code",
   "execution_count": 12,
   "id": "f10c278e-70c7-4284-ace9-6463e9a6a279",
   "metadata": {},
   "outputs": [
    {
     "data": {
      "text/plain": [
       "0    1\n",
       "1    2\n",
       "2    3\n",
       "3    4\n",
       "4    5\n",
       "5    6\n",
       "6    7\n",
       "7    8\n",
       "8    9\n",
       "9    0\n",
       "dtype: int64"
      ]
     },
     "execution_count": 12,
     "metadata": {},
     "output_type": "execute_result"
    }
   ],
   "source": [
    "ser"
   ]
  },
  {
   "cell_type": "markdown",
   "id": "cdff2fc5-f9e8-49da-8ffe-e176a85c4c22",
   "metadata": {},
   "source": [
    "Q3. Create a Pandas DataFrame that contains the following data:"
   ]
  },
  {
   "cell_type": "code",
   "execution_count": 13,
   "id": "dd2edd76-986e-40c8-aed8-c82b6089038d",
   "metadata": {},
   "outputs": [],
   "source": [
    "A=[['Name','Age','Gender'],['Alice',25,'female'],['Bob',30,'male'],['Claire',27,'female']]"
   ]
  },
  {
   "cell_type": "code",
   "execution_count": 17,
   "id": "0512f11b-eb58-49c2-a708-8e311af13c5b",
   "metadata": {},
   "outputs": [],
   "source": [
    "series=pd.DataFrame(A)"
   ]
  },
  {
   "cell_type": "code",
   "execution_count": 18,
   "id": "82cd1e04-95d8-4bcf-aa75-5106b1af41bc",
   "metadata": {},
   "outputs": [
    {
     "data": {
      "text/html": [
       "<div>\n",
       "<style scoped>\n",
       "    .dataframe tbody tr th:only-of-type {\n",
       "        vertical-align: middle;\n",
       "    }\n",
       "\n",
       "    .dataframe tbody tr th {\n",
       "        vertical-align: top;\n",
       "    }\n",
       "\n",
       "    .dataframe thead th {\n",
       "        text-align: right;\n",
       "    }\n",
       "</style>\n",
       "<table border=\"1\" class=\"dataframe\">\n",
       "  <thead>\n",
       "    <tr style=\"text-align: right;\">\n",
       "      <th></th>\n",
       "      <th>0</th>\n",
       "      <th>1</th>\n",
       "      <th>2</th>\n",
       "    </tr>\n",
       "  </thead>\n",
       "  <tbody>\n",
       "    <tr>\n",
       "      <th>0</th>\n",
       "      <td>Name</td>\n",
       "      <td>Age</td>\n",
       "      <td>Gender</td>\n",
       "    </tr>\n",
       "    <tr>\n",
       "      <th>1</th>\n",
       "      <td>Alice</td>\n",
       "      <td>25</td>\n",
       "      <td>female</td>\n",
       "    </tr>\n",
       "    <tr>\n",
       "      <th>2</th>\n",
       "      <td>Bob</td>\n",
       "      <td>30</td>\n",
       "      <td>male</td>\n",
       "    </tr>\n",
       "    <tr>\n",
       "      <th>3</th>\n",
       "      <td>Claire</td>\n",
       "      <td>27</td>\n",
       "      <td>female</td>\n",
       "    </tr>\n",
       "  </tbody>\n",
       "</table>\n",
       "</div>"
      ],
      "text/plain": [
       "        0    1       2\n",
       "0    Name  Age  Gender\n",
       "1   Alice   25  female\n",
       "2     Bob   30    male\n",
       "3  Claire   27  female"
      ]
     },
     "execution_count": 18,
     "metadata": {},
     "output_type": "execute_result"
    }
   ],
   "source": [
    "series"
   ]
  },
  {
   "cell_type": "markdown",
   "id": "189286d6-fa4d-4749-b29c-e0ec5a7954c7",
   "metadata": {},
   "source": [
    "Q4. What is ‘DataFrame’ in pandas and how is it different from pandas.series? Explain with an example."
   ]
  },
  {
   "cell_type": "markdown",
   "id": "a71cb043-71d2-4ea0-bc84-f5a717d1265f",
   "metadata": {},
   "source": [
    "Ans- DataFrame is a table type structure which contains rows and columns. But in case of pandas.series is a one dimensional structure "
   ]
  },
  {
   "cell_type": "code",
   "execution_count": 25,
   "id": "f20d3d9e-4662-483e-a15e-af5f07830e22",
   "metadata": {},
   "outputs": [
    {
     "name": "stdout",
     "output_type": "stream",
     "text": [
      "        0    1       2\n",
      "0    Name  Age  Gender\n",
      "1   Alice   25  female\n",
      "2     Bob   30    male\n",
      "3  Claire   27  female\n"
     ]
    },
    {
     "data": {
      "text/plain": [
       "0     [Name, Age, Gender]\n",
       "1     [Alice, 25, female]\n",
       "2         [Bob, 30, male]\n",
       "3    [Claire, 27, female]\n",
       "dtype: object"
      ]
     },
     "execution_count": 25,
     "metadata": {},
     "output_type": "execute_result"
    }
   ],
   "source": [
    "B=[['Name','Age','Gender'],['Alice',25,'female'],['Bob',30,'male'],['Claire',27,'female']]\n",
    "series1=pd.DataFrame(B)\n",
    "print(series1) #This will print the Dataframe\n",
    "series2=pd.Series(B)\n",
    "series2 #this will print the series"
   ]
  },
  {
   "cell_type": "markdown",
   "id": "e2782466-0e48-4a4f-bea2-eaaf321d4d0c",
   "metadata": {},
   "source": [
    "Q5. What are some common functions you can use to manipulate data in a Pandas DataFrame? Can \n",
    "you give an example of when you might use one of these functions?"
   ]
  },
  {
   "cell_type": "code",
   "execution_count": 19,
   "id": "d7b7e423-829c-46c6-be93-0d290e0a1cbe",
   "metadata": {},
   "outputs": [
    {
     "data": {
      "text/html": [
       "<div>\n",
       "<style scoped>\n",
       "    .dataframe tbody tr th:only-of-type {\n",
       "        vertical-align: middle;\n",
       "    }\n",
       "\n",
       "    .dataframe tbody tr th {\n",
       "        vertical-align: top;\n",
       "    }\n",
       "\n",
       "    .dataframe thead th {\n",
       "        text-align: right;\n",
       "    }\n",
       "</style>\n",
       "<table border=\"1\" class=\"dataframe\">\n",
       "  <thead>\n",
       "    <tr style=\"text-align: right;\">\n",
       "      <th></th>\n",
       "    </tr>\n",
       "  </thead>\n",
       "  <tbody>\n",
       "  </tbody>\n",
       "</table>\n",
       "</div>"
      ],
      "text/plain": [
       "Empty DataFrame\n",
       "Columns: []\n",
       "Index: []"
      ]
     },
     "execution_count": 19,
     "metadata": {},
     "output_type": "execute_result"
    }
   ],
   "source": [
    "pd.DataFrame()"
   ]
  },
  {
   "cell_type": "markdown",
   "id": "87d660df-59b4-482f-9d79-d1fc53733358",
   "metadata": {},
   "source": [
    "data=None,\n",
    "    index: 'Axes | None' = None,\n",
    "    columns: 'Axes | None' = None,\n",
    "    dtype: 'Dtype | None' = None,\n",
    "    copy: 'bool | None' = None,\n",
    "Above things we can modify in pandas dataframe. "
   ]
  },
  {
   "cell_type": "markdown",
   "id": "4419549d-6114-4e95-ae62-8944b7258fe4",
   "metadata": {},
   "source": [
    "index : Index or array-like\n",
    "    Index to use for resulting frame. Will default to RangeIndex if\n",
    "    no indexing information part of input data and no index provided.\n",
    "columns : Index or array-like\n",
    "    Column labels to use for resulting frame when data does not have them,\n",
    "    defaulting to RangeIndex(0, 1, 2, ..., n). If data contains column labels,\n",
    "    will perform column selection instead.\n",
    "dtype : dtype, default None\n",
    "    Data type to force. Only a single dtype is allowed. If None, infer.\n",
    "copy : bool or None, default None\n",
    "    Copy data from inputs.\n",
    "    "
   ]
  },
  {
   "cell_type": "markdown",
   "id": "4309774d-b93f-4ba9-aff6-441f022a1f48",
   "metadata": {},
   "source": [
    "Q6. Which of the following is mutable in nature Series, DataFrame, Panel?"
   ]
  },
  {
   "cell_type": "markdown",
   "id": "ca58ee1f-ab2a-44f5-b70b-a74bc22a4c3d",
   "metadata": {},
   "source": [
    "Ans- DataFrame and series are mutable type."
   ]
  },
  {
   "cell_type": "markdown",
   "id": "8621a49b-8aa7-41c5-b92d-ce789ba5f768",
   "metadata": {},
   "source": [
    "Q7. Create a DataFrame using multiple Series. Explain with an example."
   ]
  },
  {
   "cell_type": "code",
   "execution_count": null,
   "id": "477940b8-068c-42ff-8ee2-d05e35bac8ca",
   "metadata": {},
   "outputs": [],
   "source": []
  }
 ],
 "metadata": {
  "kernelspec": {
   "display_name": "Python 3 (ipykernel)",
   "language": "python",
   "name": "python3"
  },
  "language_info": {
   "codemirror_mode": {
    "name": "ipython",
    "version": 3
   },
   "file_extension": ".py",
   "mimetype": "text/x-python",
   "name": "python",
   "nbconvert_exporter": "python",
   "pygments_lexer": "ipython3",
   "version": "3.10.6"
  }
 },
 "nbformat": 4,
 "nbformat_minor": 5
}
